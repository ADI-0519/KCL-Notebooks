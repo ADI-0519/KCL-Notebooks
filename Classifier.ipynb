{
 "cells": [
  {
   "cell_type": "markdown",
   "id": "aa6bfee9",
   "metadata": {},
   "source": [
    "Intro to supervised ML.\n",
    "Imports needed first:"
   ]
  },
  {
   "cell_type": "code",
   "execution_count": 2,
   "id": "d29225ec",
   "metadata": {},
   "outputs": [],
   "source": [
    "# Libraries to manage data\n",
    "import pandas as pd\n",
    "import numpy as np\n",
    "from sklearn import datasets\n",
    "from sklearn.model_selection import train_test_split\n",
    "\n",
    "\n",
    "# Imports to visualise data\n",
    "import matplotlib as plt\n",
    "import seaborn as sns\n",
    "from matplotlib import pyplot\n",
    "\n",
    "# Libraries for the classifier\n",
    "\n",
    "from sklearn.tree import DecisionTreeClassifier # for decision trees\n",
    "from sklearn.neighbors import KNeighborsClassifier # for K nearest neighbours\n",
    "from sklearn.discriminant_analysis import LinearDiscriminantAnalysis\n",
    "from sklearn.naive_bayes import GaussianNB\n",
    "from sklearn.svm import SVC\n",
    "from sklearn.linear_model import LogisticRegression\n",
    "from sklearn.ensemble import RandomForestClassifier\n",
    "from sklearn.ensemble import GradientBoostingClassifier\n",
    "from sklearn.ensemble import AdaBoostClassifier\n",
    "from sklearn.neural_network import MLPClassifier\n",
    "from xgboost import XGBClassifier\n",
    "\n",
    "# for checks\n",
    "from sklearn.model_selection import StratifiedKFold\n",
    "from sklearn.model_selection import cross_val_score\n",
    "from sklearn.metrics import confusion_matrix\n",
    "from sklearn.metrics import classification_report\n",
    "from sklearn.metrics import RocCurveDisplay\n",
    "\n",
    "# for time\n",
    "import timeit\n"
   ]
  },
  {
   "cell_type": "markdown",
   "id": "4bdca8b1",
   "metadata": {},
   "source": [
    "After importing all of the modules, we can begin by grabbing our dataset and cleaning it before doing operaations."
   ]
  },
  {
   "cell_type": "code",
   "execution_count": 5,
   "id": "187e9526",
   "metadata": {},
   "outputs": [
    {
     "name": "stdout",
     "output_type": "stream",
     "text": [
      "0      0\n",
      "1      0\n",
      "2      0\n",
      "3      0\n",
      "4      0\n",
      "      ..\n",
      "564    0\n",
      "565    0\n",
      "566    0\n",
      "567    0\n",
      "568    1\n",
      "Name: target, Length: 569, dtype: int64\n"
     ]
    }
   ],
   "source": [
    "b_cancer = datasets.load_breast_cancer() \n",
    "dataset = pd.DataFrame(data=b_cancer.data, columns=b_cancer.feature_names)\n",
    "dataset[\"target\"] = b_cancer.target\n",
    "print(dataset[\"target\"])\n"
   ]
  },
  {
   "cell_type": "markdown",
   "id": "21322512",
   "metadata": {},
   "source": [
    "For now, we will detect any N/A data and simply remove them."
   ]
  },
  {
   "cell_type": "code",
   "execution_count": 7,
   "id": "71ec33aa",
   "metadata": {},
   "outputs": [
    {
     "name": "stdout",
     "output_type": "stream",
     "text": [
      "Shows NAs per column!\n",
      "mean radius                0\n",
      "mean texture               0\n",
      "mean perimeter             0\n",
      "mean area                  0\n",
      "mean smoothness            0\n",
      "mean compactness           0\n",
      "mean concavity             0\n",
      "mean concave points        0\n",
      "mean symmetry              0\n",
      "mean fractal dimension     0\n",
      "radius error               0\n",
      "texture error              0\n",
      "perimeter error            0\n",
      "area error                 0\n",
      "smoothness error           0\n",
      "compactness error          0\n",
      "concavity error            0\n",
      "concave points error       0\n",
      "symmetry error             0\n",
      "fractal dimension error    0\n",
      "worst radius               0\n",
      "worst texture              0\n",
      "worst perimeter            0\n",
      "worst area                 0\n",
      "worst smoothness           0\n",
      "worst compactness          0\n",
      "worst concavity            0\n",
      "worst concave points       0\n",
      "worst symmetry             0\n",
      "worst fractal dimension    0\n",
      "target                     0\n",
      "dtype: int64\n"
     ]
    }
   ],
   "source": [
    "print(\"Shows NAs per column!\")\n",
    "dataClean = dataset.dropna(axis=0, how=\"any\")\n",
    "print(dataClean.isna().sum())"
   ]
  }
 ],
 "metadata": {
  "kernelspec": {
   "display_name": "KCL-kernel",
   "language": "python",
   "name": "kcl_env"
  },
  "language_info": {
   "codemirror_mode": {
    "name": "ipython",
    "version": 3
   },
   "file_extension": ".py",
   "mimetype": "text/x-python",
   "name": "python",
   "nbconvert_exporter": "python",
   "pygments_lexer": "ipython3",
   "version": "3.11.5"
  }
 },
 "nbformat": 4,
 "nbformat_minor": 5
}
