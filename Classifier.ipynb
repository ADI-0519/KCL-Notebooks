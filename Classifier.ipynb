{
 "cells": [
  {
   "cell_type": "markdown",
   "id": "aa6bfee9",
   "metadata": {},
   "source": [
    "Intro to supervised ML.\n",
    "Imports needed first:"
   ]
  },
  {
   "cell_type": "code",
   "execution_count": 27,
   "id": "d29225ec",
   "metadata": {},
   "outputs": [],
   "source": [
    "# Libraries to manage data\n",
    "import pandas as pd\n",
    "import numpy as np\n",
    "from sklearn import datasets\n",
    "from sklearn.model_selection import train_test_split\n",
    "\n",
    "\n",
    "# Imports to visualise data\n",
    "import matplotlib as plt\n",
    "import seaborn as sns\n",
    "from matplotlib import pyplot\n",
    "\n",
    "# Libraries for the classifier\n",
    "\n",
    "from sklearn.tree import DecisionTreeClassifier # for decision trees\n",
    "from sklearn.neighbors import KNeighborsClassifier # for K nearest neighbours\n",
    "from sklearn.discriminant_analysis import LinearDiscriminantAnalysis\n",
    "from sklearn.naive_bayes import GaussianNB\n",
    "from sklearn.svm import SVC\n",
    "from sklearn.linear_model import LogisticRegression\n",
    "from sklearn.ensemble import RandomForestClassifier\n",
    "from sklearn.ensemble import GradientBoostingClassifier\n",
    "from sklearn.ensemble import AdaBoostClassifier\n",
    "from sklearn.neural_network import MLPClassifier\n",
    "from sklearn.metrics import confusion_matrix, ConfusionMatrixDisplay\n",
    "from xgboost import XGBClassifier\n",
    "\n",
    "# for checks\n",
    "from sklearn.model_selection import StratifiedKFold\n",
    "from sklearn.model_selection import cross_val_score\n",
    "from sklearn.metrics import confusion_matrix\n",
    "from sklearn.metrics import classification_report\n",
    "from sklearn.metrics import RocCurveDisplay\n",
    "\n",
    "# for time\n",
    "import timeit\n"
   ]
  },
  {
   "cell_type": "markdown",
   "id": "4bdca8b1",
   "metadata": {},
   "source": [
    "After importing all of the modules, we can begin by grabbing our dataset and cleaning it before doing operaations."
   ]
  },
  {
   "cell_type": "code",
   "execution_count": 44,
   "id": "187e9526",
   "metadata": {},
   "outputs": [
    {
     "name": "stdout",
     "output_type": "stream",
     "text": [
      "0      0\n",
      "1      0\n",
      "2      0\n",
      "3      0\n",
      "4      0\n",
      "      ..\n",
      "564    0\n",
      "565    0\n",
      "566    0\n",
      "567    0\n",
      "568    1\n",
      "Name: target, Length: 569, dtype: int64\n"
     ]
    }
   ],
   "source": [
    "b_cancer = datasets.load_breast_cancer() \n",
    "dataset = pd.DataFrame(data=b_cancer.data, columns=b_cancer.feature_names)\n",
    "dataset[\"target\"] = b_cancer.target\n",
    "print(dataset[\"target\"])"
   ]
  },
  {
   "cell_type": "markdown",
   "id": "21322512",
   "metadata": {},
   "source": [
    "For now, we will detect any N/A data and simply remove them."
   ]
  },
  {
   "cell_type": "code",
   "execution_count": 45,
   "id": "71ec33aa",
   "metadata": {},
   "outputs": [
    {
     "name": "stdout",
     "output_type": "stream",
     "text": [
      "Shows NAs per column!\n",
      "mean radius                0\n",
      "mean texture               0\n",
      "mean perimeter             0\n",
      "mean area                  0\n",
      "mean smoothness            0\n",
      "mean compactness           0\n",
      "mean concavity             0\n",
      "mean concave points        0\n",
      "mean symmetry              0\n",
      "mean fractal dimension     0\n",
      "radius error               0\n",
      "texture error              0\n",
      "perimeter error            0\n",
      "area error                 0\n",
      "smoothness error           0\n",
      "compactness error          0\n",
      "concavity error            0\n",
      "concave points error       0\n",
      "symmetry error             0\n",
      "fractal dimension error    0\n",
      "worst radius               0\n",
      "worst texture              0\n",
      "worst perimeter            0\n",
      "worst area                 0\n",
      "worst smoothness           0\n",
      "worst compactness          0\n",
      "worst concavity            0\n",
      "worst concave points       0\n",
      "worst symmetry             0\n",
      "worst fractal dimension    0\n",
      "target                     0\n",
      "dtype: int64\n"
     ]
    }
   ],
   "source": [
    "print(\"Shows NAs per column!\")\n",
    "dataClean = dataset.dropna(axis=0, how=\"any\")\n",
    "print(dataClean.isna().sum())"
   ]
  },
  {
   "cell_type": "markdown",
   "id": "4b7a6a00",
   "metadata": {},
   "source": [
    "Some variables are correlated with another variable. Correlations product redundancy in the information and affects the models. They can be easily removed:"
   ]
  },
  {
   "cell_type": "code",
   "execution_count": 46,
   "id": "5faa5a97",
   "metadata": {},
   "outputs": [
    {
     "name": "stdout",
     "output_type": "stream",
     "text": [
      "                         mean radius  mean texture  mean perimeter  mean area  \\\n",
      "mean radius                      NaN      0.323782        0.997855   0.987357   \n",
      "mean texture                     NaN           NaN        0.329533   0.321086   \n",
      "mean perimeter                   NaN           NaN             NaN   0.986507   \n",
      "mean area                        NaN           NaN             NaN        NaN   \n",
      "mean smoothness                  NaN           NaN             NaN        NaN   \n",
      "mean compactness                 NaN           NaN             NaN        NaN   \n",
      "mean concavity                   NaN           NaN             NaN        NaN   \n",
      "mean concave points              NaN           NaN             NaN        NaN   \n",
      "mean symmetry                    NaN           NaN             NaN        NaN   \n",
      "mean fractal dimension           NaN           NaN             NaN        NaN   \n",
      "radius error                     NaN           NaN             NaN        NaN   \n",
      "texture error                    NaN           NaN             NaN        NaN   \n",
      "perimeter error                  NaN           NaN             NaN        NaN   \n",
      "area error                       NaN           NaN             NaN        NaN   \n",
      "smoothness error                 NaN           NaN             NaN        NaN   \n",
      "compactness error                NaN           NaN             NaN        NaN   \n",
      "concavity error                  NaN           NaN             NaN        NaN   \n",
      "concave points error             NaN           NaN             NaN        NaN   \n",
      "symmetry error                   NaN           NaN             NaN        NaN   \n",
      "fractal dimension error          NaN           NaN             NaN        NaN   \n",
      "worst radius                     NaN           NaN             NaN        NaN   \n",
      "worst texture                    NaN           NaN             NaN        NaN   \n",
      "worst perimeter                  NaN           NaN             NaN        NaN   \n",
      "worst area                       NaN           NaN             NaN        NaN   \n",
      "worst smoothness                 NaN           NaN             NaN        NaN   \n",
      "worst compactness                NaN           NaN             NaN        NaN   \n",
      "worst concavity                  NaN           NaN             NaN        NaN   \n",
      "worst concave points             NaN           NaN             NaN        NaN   \n",
      "worst symmetry                   NaN           NaN             NaN        NaN   \n",
      "worst fractal dimension          NaN           NaN             NaN        NaN   \n",
      "target                           NaN           NaN             NaN        NaN   \n",
      "\n",
      "                         mean smoothness  mean compactness  mean concavity  \\\n",
      "mean radius                     0.170581          0.506124        0.676764   \n",
      "mean texture                    0.023389          0.236702        0.302418   \n",
      "mean perimeter                  0.207278          0.556936        0.716136   \n",
      "mean area                       0.177028          0.498502        0.685983   \n",
      "mean smoothness                      NaN          0.659123        0.521984   \n",
      "mean compactness                     NaN               NaN        0.883121   \n",
      "mean concavity                       NaN               NaN             NaN   \n",
      "mean concave points                  NaN               NaN             NaN   \n",
      "mean symmetry                        NaN               NaN             NaN   \n",
      "mean fractal dimension               NaN               NaN             NaN   \n",
      "radius error                         NaN               NaN             NaN   \n",
      "texture error                        NaN               NaN             NaN   \n",
      "perimeter error                      NaN               NaN             NaN   \n",
      "area error                           NaN               NaN             NaN   \n",
      "smoothness error                     NaN               NaN             NaN   \n",
      "compactness error                    NaN               NaN             NaN   \n",
      "concavity error                      NaN               NaN             NaN   \n",
      "concave points error                 NaN               NaN             NaN   \n",
      "symmetry error                       NaN               NaN             NaN   \n",
      "fractal dimension error              NaN               NaN             NaN   \n",
      "worst radius                         NaN               NaN             NaN   \n",
      "worst texture                        NaN               NaN             NaN   \n",
      "worst perimeter                      NaN               NaN             NaN   \n",
      "worst area                           NaN               NaN             NaN   \n",
      "worst smoothness                     NaN               NaN             NaN   \n",
      "worst compactness                    NaN               NaN             NaN   \n",
      "worst concavity                      NaN               NaN             NaN   \n",
      "worst concave points                 NaN               NaN             NaN   \n",
      "worst symmetry                       NaN               NaN             NaN   \n",
      "worst fractal dimension              NaN               NaN             NaN   \n",
      "target                               NaN               NaN             NaN   \n",
      "\n",
      "                         mean concave points  mean symmetry  \\\n",
      "mean radius                         0.822529       0.147741   \n",
      "mean texture                        0.293464       0.071401   \n",
      "mean perimeter                      0.850977       0.183027   \n",
      "mean area                           0.823269       0.151293   \n",
      "mean smoothness                     0.553695       0.557775   \n",
      "mean compactness                    0.831135       0.602641   \n",
      "mean concavity                      0.921391       0.500667   \n",
      "mean concave points                      NaN       0.462497   \n",
      "mean symmetry                            NaN            NaN   \n",
      "mean fractal dimension                   NaN            NaN   \n",
      "radius error                             NaN            NaN   \n",
      "texture error                            NaN            NaN   \n",
      "perimeter error                          NaN            NaN   \n",
      "area error                               NaN            NaN   \n",
      "smoothness error                         NaN            NaN   \n",
      "compactness error                        NaN            NaN   \n",
      "concavity error                          NaN            NaN   \n",
      "concave points error                     NaN            NaN   \n",
      "symmetry error                           NaN            NaN   \n",
      "fractal dimension error                  NaN            NaN   \n",
      "worst radius                             NaN            NaN   \n",
      "worst texture                            NaN            NaN   \n",
      "worst perimeter                          NaN            NaN   \n",
      "worst area                               NaN            NaN   \n",
      "worst smoothness                         NaN            NaN   \n",
      "worst compactness                        NaN            NaN   \n",
      "worst concavity                          NaN            NaN   \n",
      "worst concave points                     NaN            NaN   \n",
      "worst symmetry                           NaN            NaN   \n",
      "worst fractal dimension                  NaN            NaN   \n",
      "target                                   NaN            NaN   \n",
      "\n",
      "                         mean fractal dimension  ...  worst texture  \\\n",
      "mean radius                            0.311631  ...       0.297008   \n",
      "mean texture                           0.076437  ...       0.912045   \n",
      "mean perimeter                         0.261477  ...       0.303038   \n",
      "mean area                              0.283110  ...       0.287489   \n",
      "mean smoothness                        0.584792  ...       0.036072   \n",
      "mean compactness                       0.565369  ...       0.248133   \n",
      "mean concavity                         0.336783  ...       0.299879   \n",
      "mean concave points                    0.166917  ...       0.292752   \n",
      "mean symmetry                          0.479921  ...       0.090651   \n",
      "mean fractal dimension                      NaN  ...       0.051269   \n",
      "radius error                                NaN  ...       0.194799   \n",
      "texture error                               NaN  ...       0.409003   \n",
      "perimeter error                             NaN  ...       0.200371   \n",
      "area error                                  NaN  ...       0.196497   \n",
      "smoothness error                            NaN  ...       0.074743   \n",
      "compactness error                           NaN  ...       0.143003   \n",
      "concavity error                             NaN  ...       0.100241   \n",
      "concave points error                        NaN  ...       0.086741   \n",
      "symmetry error                              NaN  ...       0.077473   \n",
      "fractal dimension error                     NaN  ...       0.003195   \n",
      "worst radius                                NaN  ...       0.359921   \n",
      "worst texture                               NaN  ...            NaN   \n",
      "worst perimeter                             NaN  ...            NaN   \n",
      "worst area                                  NaN  ...            NaN   \n",
      "worst smoothness                            NaN  ...            NaN   \n",
      "worst compactness                           NaN  ...            NaN   \n",
      "worst concavity                             NaN  ...            NaN   \n",
      "worst concave points                        NaN  ...            NaN   \n",
      "worst symmetry                              NaN  ...            NaN   \n",
      "worst fractal dimension                     NaN  ...            NaN   \n",
      "target                                      NaN  ...            NaN   \n",
      "\n",
      "                         worst perimeter  worst area  worst smoothness  \\\n",
      "mean radius                     0.965137    0.941082          0.119616   \n",
      "mean texture                    0.358040    0.343546          0.077503   \n",
      "mean perimeter                  0.970387    0.941550          0.150549   \n",
      "mean area                       0.959120    0.959213          0.123523   \n",
      "mean smoothness                 0.238853    0.206718          0.805324   \n",
      "mean compactness                0.590210    0.509604          0.565541   \n",
      "mean concavity                  0.729565    0.675987          0.448822   \n",
      "mean concave points             0.855923    0.809630          0.452753   \n",
      "mean symmetry                   0.219169    0.177193          0.426675   \n",
      "mean fractal dimension          0.205151    0.231854          0.504942   \n",
      "radius error                    0.719684    0.751548          0.141919   \n",
      "texture error                   0.102242    0.083195          0.073658   \n",
      "perimeter error                 0.721031    0.730713          0.130054   \n",
      "area error                      0.761213    0.811408          0.125389   \n",
      "smoothness error                0.217304    0.182195          0.314457   \n",
      "compactness error               0.260516    0.199371          0.227394   \n",
      "concavity error                 0.226680    0.188353          0.168481   \n",
      "concave points error            0.394999    0.342271          0.215351   \n",
      "symmetry error                  0.103753    0.110343          0.012662   \n",
      "fractal dimension error         0.001000    0.022736          0.170568   \n",
      "worst radius                    0.993708    0.984015          0.216574   \n",
      "worst texture                   0.365098    0.345842          0.225429   \n",
      "worst perimeter                      NaN    0.977578          0.236775   \n",
      "worst area                           NaN         NaN          0.209145   \n",
      "worst smoothness                     NaN         NaN               NaN   \n",
      "worst compactness                    NaN         NaN               NaN   \n",
      "worst concavity                      NaN         NaN               NaN   \n",
      "worst concave points                 NaN         NaN               NaN   \n",
      "worst symmetry                       NaN         NaN               NaN   \n",
      "worst fractal dimension              NaN         NaN               NaN   \n",
      "target                               NaN         NaN               NaN   \n",
      "\n",
      "                         worst compactness  worst concavity  \\\n",
      "mean radius                       0.413463         0.526911   \n",
      "mean texture                      0.277830         0.301025   \n",
      "mean perimeter                    0.455774         0.563879   \n",
      "mean area                         0.390410         0.512606   \n",
      "mean smoothness                   0.472468         0.434926   \n",
      "mean compactness                  0.865809         0.816275   \n",
      "mean concavity                    0.754968         0.884103   \n",
      "mean concave points               0.667454         0.752399   \n",
      "mean symmetry                     0.473200         0.433721   \n",
      "mean fractal dimension            0.458798         0.346234   \n",
      "radius error                      0.287103         0.380585   \n",
      "texture error                     0.092439         0.068956   \n",
      "perimeter error                   0.341919         0.418899   \n",
      "area error                        0.283257         0.385100   \n",
      "smoothness error                  0.055558         0.058298   \n",
      "compactness error                 0.678780         0.639147   \n",
      "concavity error                   0.484858         0.662564   \n",
      "concave points error              0.452888         0.549592   \n",
      "symmetry error                    0.060255         0.037119   \n",
      "fractal dimension error           0.390159         0.379975   \n",
      "worst radius                      0.475820         0.573975   \n",
      "worst texture                     0.360832         0.368366   \n",
      "worst perimeter                   0.529408         0.618344   \n",
      "worst area                        0.438296         0.543331   \n",
      "worst smoothness                  0.568187         0.518523   \n",
      "worst compactness                      NaN         0.892261   \n",
      "worst concavity                        NaN              NaN   \n",
      "worst concave points                   NaN              NaN   \n",
      "worst symmetry                         NaN              NaN   \n",
      "worst fractal dimension                NaN              NaN   \n",
      "target                                 NaN              NaN   \n",
      "\n",
      "                         worst concave points  worst symmetry  \\\n",
      "mean radius                          0.744214        0.163953   \n",
      "mean texture                         0.295316        0.105008   \n",
      "mean perimeter                       0.771241        0.189115   \n",
      "mean area                            0.722017        0.143570   \n",
      "mean smoothness                      0.503053        0.394309   \n",
      "mean compactness                     0.815573        0.510223   \n",
      "mean concavity                       0.861323        0.409464   \n",
      "mean concave points                  0.910155        0.375744   \n",
      "mean symmetry                        0.430297        0.699826   \n",
      "mean fractal dimension               0.175325        0.334019   \n",
      "radius error                         0.531062        0.094543   \n",
      "texture error                        0.119638        0.128215   \n",
      "perimeter error                      0.554897        0.109930   \n",
      "area error                           0.538166        0.074126   \n",
      "smoothness error                     0.102007        0.107342   \n",
      "compactness error                    0.483208        0.277878   \n",
      "concavity error                      0.440472        0.197788   \n",
      "concave points error                 0.602450        0.143116   \n",
      "symmetry error                       0.030413        0.389402   \n",
      "fractal dimension error              0.215204        0.111094   \n",
      "worst radius                         0.787424        0.243529   \n",
      "worst texture                        0.359755        0.233027   \n",
      "worst perimeter                      0.816322        0.269493   \n",
      "worst area                           0.747419        0.209146   \n",
      "worst smoothness                     0.547691        0.493838   \n",
      "worst compactness                    0.801080        0.614441   \n",
      "worst concavity                      0.855434        0.532520   \n",
      "worst concave points                      NaN        0.502528   \n",
      "worst symmetry                            NaN             NaN   \n",
      "worst fractal dimension                   NaN             NaN   \n",
      "target                                    NaN             NaN   \n",
      "\n",
      "                         worst fractal dimension    target  \n",
      "mean radius                             0.007066  0.730029  \n",
      "mean texture                            0.119205  0.415185  \n",
      "mean perimeter                          0.051019  0.742636  \n",
      "mean area                               0.003738  0.708984  \n",
      "mean smoothness                         0.499316  0.358560  \n",
      "mean compactness                        0.687382  0.596534  \n",
      "mean concavity                          0.514930  0.696360  \n",
      "mean concave points                     0.368661  0.776614  \n",
      "mean symmetry                           0.438413  0.330499  \n",
      "mean fractal dimension                  0.767297  0.012838  \n",
      "radius error                            0.049559  0.567134  \n",
      "texture error                           0.045655  0.008303  \n",
      "perimeter error                         0.085433  0.556141  \n",
      "area error                              0.017539  0.548236  \n",
      "smoothness error                        0.101480  0.067016  \n",
      "compactness error                       0.590973  0.292999  \n",
      "concavity error                         0.439329  0.253730  \n",
      "concave points error                    0.310655  0.408042  \n",
      "symmetry error                          0.078079  0.006522  \n",
      "fractal dimension error                 0.591328  0.077972  \n",
      "worst radius                            0.093492  0.776454  \n",
      "worst texture                           0.219122  0.456903  \n",
      "worst perimeter                         0.138957  0.782914  \n",
      "worst area                              0.079647  0.733825  \n",
      "worst smoothness                        0.617624  0.421465  \n",
      "worst compactness                       0.810455  0.590998  \n",
      "worst concavity                         0.686511  0.659610  \n",
      "worst concave points                    0.511114  0.793566  \n",
      "worst symmetry                          0.537848  0.416294  \n",
      "worst fractal dimension                      NaN  0.323872  \n",
      "target                                       NaN       NaN  \n",
      "\n",
      "[31 rows x 31 columns]\n"
     ]
    }
   ],
   "source": [
    "corr_matrix = dataClean.corr().abs()\n",
    "ones = np.ones(corr_matrix.shape) # creates same size matrix of ones\n",
    "mask = np.triu(ones,k=1)\n",
    "# [[0. 1. 1. 1. 1.]\n",
    "#  [0. 0. 1. 1. 1.]\n",
    "#  [0. 0. 0. 1. 1.]\n",
    "#  [0. 0. 0. 0. 1.]\n",
    "#  [0. 0. 0. 0. 0.]]\n",
    "mask = mask.astype(bool) # Convert it to True and falses.\n",
    "upper_triangle = corr_matrix.where(mask)\n",
    "print(upper_triangle)"
   ]
  },
  {
   "cell_type": "markdown",
   "id": "4be7e89e",
   "metadata": {},
   "source": [
    "After having obtained the upper triangle of the correlation matrix, we now need to check whether each column has a correlation value above 0.95 with another column, and as such we grab that column."
   ]
  },
  {
   "cell_type": "code",
   "execution_count": 47,
   "id": "99685389",
   "metadata": {},
   "outputs": [
    {
     "name": "stdout",
     "output_type": "stream",
     "text": [
      "['mean perimeter', 'mean area', 'perimeter error', 'area error', 'worst radius', 'worst perimeter', 'worst area']\n"
     ]
    }
   ],
   "source": [
    "columns_to_drop = [column for column in upper_triangle.columns if any(upper_triangle[column] > 0.95)]\n",
    "print(columns_to_drop)"
   ]
  },
  {
   "cell_type": "markdown",
   "id": "b1447f3c",
   "metadata": {},
   "source": [
    "So let's remove these columns."
   ]
  },
  {
   "cell_type": "code",
   "execution_count": 48,
   "id": "9ad70e4c",
   "metadata": {},
   "outputs": [
    {
     "name": "stdout",
     "output_type": "stream",
     "text": [
      "   mean radius  mean texture  mean smoothness  mean compactness  \\\n",
      "0        17.99         10.38          0.11840           0.27760   \n",
      "1        20.57         17.77          0.08474           0.07864   \n",
      "2        19.69         21.25          0.10960           0.15990   \n",
      "3        11.42         20.38          0.14250           0.28390   \n",
      "4        20.29         14.34          0.10030           0.13280   \n",
      "\n",
      "   mean concavity  mean concave points  mean symmetry  mean fractal dimension  \\\n",
      "0          0.3001              0.14710         0.2419                 0.07871   \n",
      "1          0.0869              0.07017         0.1812                 0.05667   \n",
      "2          0.1974              0.12790         0.2069                 0.05999   \n",
      "3          0.2414              0.10520         0.2597                 0.09744   \n",
      "4          0.1980              0.10430         0.1809                 0.05883   \n",
      "\n",
      "   radius error  texture error  ...  symmetry error  fractal dimension error  \\\n",
      "0        1.0950         0.9053  ...         0.03003                 0.006193   \n",
      "1        0.5435         0.7339  ...         0.01389                 0.003532   \n",
      "2        0.7456         0.7869  ...         0.02250                 0.004571   \n",
      "3        0.4956         1.1560  ...         0.05963                 0.009208   \n",
      "4        0.7572         0.7813  ...         0.01756                 0.005115   \n",
      "\n",
      "   worst texture  worst smoothness  worst compactness  worst concavity  \\\n",
      "0          17.33            0.1622             0.6656           0.7119   \n",
      "1          23.41            0.1238             0.1866           0.2416   \n",
      "2          25.53            0.1444             0.4245           0.4504   \n",
      "3          26.50            0.2098             0.8663           0.6869   \n",
      "4          16.67            0.1374             0.2050           0.4000   \n",
      "\n",
      "   worst concave points  worst symmetry  worst fractal dimension  target  \n",
      "0                0.2654          0.4601                  0.11890       0  \n",
      "1                0.1860          0.2750                  0.08902       0  \n",
      "2                0.2430          0.3613                  0.08758       0  \n",
      "3                0.2575          0.6638                  0.17300       0  \n",
      "4                0.1625          0.2364                  0.07678       0  \n",
      "\n",
      "[5 rows x 24 columns]\n"
     ]
    }
   ],
   "source": [
    "readyData = dataClean.drop(columns_to_drop, axis=1)\n",
    "print(readyData.head())"
   ]
  },
  {
   "cell_type": "markdown",
   "id": "e0fa44a0",
   "metadata": {},
   "source": [
    "Let's visualise the data now via seaborn! (sns)."
   ]
  },
  {
   "cell_type": "code",
   "execution_count": 49,
   "id": "342c3ce3",
   "metadata": {},
   "outputs": [
    {
     "data": {
      "text/plain": [
       "<Axes: xlabel='target', ylabel='count'>"
      ]
     },
     "execution_count": 49,
     "metadata": {},
     "output_type": "execute_result"
    },
    {
     "data": {
      "image/png": "[encoded data removed]",
      "text/plain": [
       "<Figure size 640x480 with 1 Axes>"
      ]
     },
     "metadata": {},
     "output_type": "display_data"
    }
   ],
   "source": [
    "sns.set_style(\"whitegrid\")\n",
    "sns.countplot(x=\"target\", data=dataClean, palette=\"Set2\", hue=\"target\")"
   ]
  },
  {
   "cell_type": "markdown",
   "id": "9244b366",
   "metadata": {},
   "source": [
    "Let's make the first classifier."
   ]
  },
  {
   "cell_type": "code",
   "execution_count": 50,
   "id": "69ccee1d",
   "metadata": {},
   "outputs": [
    {
     "name": "stdout",
     "output_type": "stream",
     "text": [
      "     mean radius  mean texture  mean smoothness  mean compactness  \\\n",
      "0          17.99         10.38          0.11840           0.27760   \n",
      "1          20.57         17.77          0.08474           0.07864   \n",
      "2          19.69         21.25          0.10960           0.15990   \n",
      "3          11.42         20.38          0.14250           0.28390   \n",
      "4          20.29         14.34          0.10030           0.13280   \n",
      "..           ...           ...              ...               ...   \n",
      "564        21.56         22.39          0.11100           0.11590   \n",
      "565        20.13         28.25          0.09780           0.10340   \n",
      "566        16.60         28.08          0.08455           0.10230   \n",
      "567        20.60         29.33          0.11780           0.27700   \n",
      "568         7.76         24.54          0.05263           0.04362   \n",
      "\n",
      "     mean concavity  mean concave points  mean symmetry  \\\n",
      "0           0.30010              0.14710         0.2419   \n",
      "1           0.08690              0.07017         0.1812   \n",
      "2           0.19740              0.12790         0.2069   \n",
      "3           0.24140              0.10520         0.2597   \n",
      "4           0.19800              0.10430         0.1809   \n",
      "..              ...                  ...            ...   \n",
      "564         0.24390              0.13890         0.1726   \n",
      "565         0.14400              0.09791         0.1752   \n",
      "566         0.09251              0.05302         0.1590   \n",
      "567         0.35140              0.15200         0.2397   \n",
      "568         0.00000              0.00000         0.1587   \n",
      "\n",
      "     mean fractal dimension  radius error  texture error  ...  \\\n",
      "0                   0.07871        1.0950         0.9053  ...   \n",
      "1                   0.05667        0.5435         0.7339  ...   \n",
      "2                   0.05999        0.7456         0.7869  ...   \n",
      "3                   0.09744        0.4956         1.1560  ...   \n",
      "4                   0.05883        0.7572         0.7813  ...   \n",
      "..                      ...           ...            ...  ...   \n",
      "564                 0.05623        1.1760         1.2560  ...   \n",
      "565                 0.05533        0.7655         2.4630  ...   \n",
      "566                 0.05648        0.4564         1.0750  ...   \n",
      "567                 0.07016        0.7260         1.5950  ...   \n",
      "568                 0.05884        0.3857         1.4280  ...   \n",
      "\n",
      "     concave points error  symmetry error  fractal dimension error  \\\n",
      "0                 0.01587         0.03003                 0.006193   \n",
      "1                 0.01340         0.01389                 0.003532   \n",
      "2                 0.02058         0.02250                 0.004571   \n",
      "3                 0.01867         0.05963                 0.009208   \n",
      "4                 0.01885         0.01756                 0.005115   \n",
      "..                    ...             ...                      ...   \n",
      "564               0.02454         0.01114                 0.004239   \n",
      "565               0.01678         0.01898                 0.002498   \n",
      "566               0.01557         0.01318                 0.003892   \n",
      "567               0.01664         0.02324                 0.006185   \n",
      "568               0.00000         0.02676                 0.002783   \n",
      "\n",
      "     worst texture  worst smoothness  worst compactness  worst concavity  \\\n",
      "0            17.33           0.16220            0.66560           0.7119   \n",
      "1            23.41           0.12380            0.18660           0.2416   \n",
      "2            25.53           0.14440            0.42450           0.4504   \n",
      "3            26.50           0.20980            0.86630           0.6869   \n",
      "4            16.67           0.13740            0.20500           0.4000   \n",
      "..             ...               ...                ...              ...   \n",
      "564          26.40           0.14100            0.21130           0.4107   \n",
      "565          38.25           0.11660            0.19220           0.3215   \n",
      "566          34.12           0.11390            0.30940           0.3403   \n",
      "567          39.42           0.16500            0.86810           0.9387   \n",
      "568          30.37           0.08996            0.06444           0.0000   \n",
      "\n",
      "     worst concave points  worst symmetry  worst fractal dimension  \n",
      "0                  0.2654          0.4601                  0.11890  \n",
      "1                  0.1860          0.2750                  0.08902  \n",
      "2                  0.2430          0.3613                  0.08758  \n",
      "3                  0.2575          0.6638                  0.17300  \n",
      "4                  0.1625          0.2364                  0.07678  \n",
      "..                    ...             ...                      ...  \n",
      "564                0.2216          0.2060                  0.07115  \n",
      "565                0.1628          0.2572                  0.06637  \n",
      "566                0.1418          0.2218                  0.07820  \n",
      "567                0.2650          0.4087                  0.12400  \n",
      "568                0.0000          0.2871                  0.07039  \n",
      "\n",
      "[569 rows x 23 columns]\n",
      "0      0\n",
      "1      0\n",
      "2      0\n",
      "3      0\n",
      "4      0\n",
      "      ..\n",
      "564    0\n",
      "565    0\n",
      "566    0\n",
      "567    0\n",
      "568    1\n",
      "Name: target, Length: 569, dtype: int64\n"
     ]
    }
   ],
   "source": [
    "X = readyData.iloc[:,:-1]\n",
    "Y = readyData.iloc[:,-1]\n",
    "X_train, X_test, Y_train, Y_test = train_test_split(X,Y,test_size=0.2,shuffle=True)\n",
    "print(X)\n",
    "print(Y)"
   ]
  },
  {
   "cell_type": "markdown",
   "id": "bdafc7fe",
   "metadata": {},
   "source": [
    "After having obtained our training and test data,let's use it on some models!"
   ]
  },
  {
   "cell_type": "code",
   "execution_count": null,
   "id": "c2ec5122",
   "metadata": {},
   "outputs": [
    {
     "name": "stdout",
     "output_type": "stream",
     "text": [
      "              precision    recall  f1-score   support\n",
      "\n",
      "           0       0.97      0.88      0.93        43\n",
      "           1       0.93      0.99      0.96        71\n",
      "\n",
      "    accuracy                           0.95       114\n",
      "   macro avg       0.95      0.93      0.94       114\n",
      "weighted avg       0.95      0.95      0.95       114\n",
      "\n"
     ]
    },
    {
     "data": {
      "text/plain": [
       "<sklearn.metrics._plot.confusion_matrix.ConfusionMatrixDisplay at 0x221ef0c5550>"
      ]
     },
     "execution_count": 35,
     "metadata": {},
     "output_type": "execute_result"
    },
    {
     "data": {
      "image/png": "[encoded data removed]",
      "text/plain": [
       "<Figure size 640x480 with 2 Axes>"
      ]
     },
     "metadata": {},
     "output_type": "display_data"
    }
   ],
   "source": [
    "model = SVC(kernel=\"linear\")\n",
    "model.fit(X_train, Y_train)\n",
    "predictions = model.predict(X_test)\n",
    "confus = confusion_matrix(Y_test,predictions)\n",
    "print(classification_report(Y_test,predictions))\n",
    "\n",
    "\n",
    "# 0 for malignant, 1 for benign\n",
    "disp = ConfusionMatrixDisplay(confusion_matrix=confus,display_labels=[\"Malignant\",\"Benign\"])\n",
    "disp.plot()"
   ]
  },
  {
   "cell_type": "markdown",
   "id": "94cac33d",
   "metadata": {},
   "source": [
    "Now let's add a kernel to the support vector machine"
   ]
  },
  {
   "cell_type": "code",
   "execution_count": 39,
   "id": "dbd79915",
   "metadata": {},
   "outputs": [
    {
     "name": "stdout",
     "output_type": "stream",
     "text": [
      "              precision    recall  f1-score   support\n",
      "\n",
      "           0       0.89      0.93      0.91        43\n",
      "           1       0.96      0.93      0.94        71\n",
      "\n",
      "    accuracy                           0.93       114\n",
      "   macro avg       0.92      0.93      0.93       114\n",
      "weighted avg       0.93      0.93      0.93       114\n",
      "\n"
     ]
    },
    {
     "data": {
      "image/png": "[encoded data removed]",
      "text/plain": [
       "<Figure size 640x480 with 2 Axes>"
      ]
     },
     "metadata": {},
     "output_type": "display_data"
    }
   ],
   "source": [
    "model = SVC(kernel=\"rbf\",gamma=\"auto\")\n",
    "model.fit(X_train, Y_train)\n",
    "predictions = model.predict(X_test)\n",
    "conf = (confusion_matrix(Y_test,predictions))\n",
    "conf_display = ConfusionMatrixDisplay(confusion_matrix=conf, display_labels=[\"Malignant\",\"Benign\"])\n",
    "conf_display.plot()\n",
    "\n",
    "print(classification_report(Y_test,predictions))"
   ]
  },
  {
   "cell_type": "markdown",
   "id": "3211a3fa",
   "metadata": {},
   "source": [
    "Let's now implement a Naive bayes classifier which assumes all features are independent. Works well for text and categorical data, more malignant => higher likelihood of malignant. \n",
    "Naive since it assumes all features 100% independent."
   ]
  },
  {
   "cell_type": "code",
   "execution_count": 51,
   "id": "f17b1db5",
   "metadata": {},
   "outputs": [
    {
     "name": "stdout",
     "output_type": "stream",
     "text": [
      "              precision    recall  f1-score   support\n",
      "\n",
      "           0       0.82      0.94      0.88        34\n",
      "           1       0.97      0.91      0.94        80\n",
      "\n",
      "    accuracy                           0.92       114\n",
      "   macro avg       0.90      0.93      0.91       114\n",
      "weighted avg       0.93      0.92      0.92       114\n",
      "\n"
     ]
    },
    {
     "data": {
      "image/png": "[encoded data removed]",
      "text/plain": [
       "<Figure size 640x480 with 2 Axes>"
      ]
     },
     "metadata": {},
     "output_type": "display_data"
    }
   ],
   "source": [
    "model = GaussianNB()\n",
    "model.fit(X_train,Y_train)\n",
    "predictions = model.predict(X_test)\n",
    "conf = (confusion_matrix(Y_test,predictions))\n",
    "conf_display = ConfusionMatrixDisplay(confusion_matrix=conf, display_labels=[\"Malignant\",\"Benign\"])\n",
    "conf_display.plot()\n",
    "\n",
    "print(classification_report(Y_test,predictions))"
   ]
  },
  {
   "cell_type": "markdown",
   "id": "36169d31",
   "metadata": {},
   "source": [
    "Tree based algo (using decision trees)"
   ]
  },
  {
   "cell_type": "code",
   "execution_count": 42,
   "id": "a0d78944",
   "metadata": {},
   "outputs": [
    {
     "name": "stdout",
     "output_type": "stream",
     "text": [
      "              precision    recall  f1-score   support\n",
      "\n",
      "           0       0.98      1.00      0.99        42\n",
      "           1       1.00      0.97      0.99        38\n",
      "\n",
      "    accuracy                           0.99        80\n",
      "   macro avg       0.99      0.99      0.99        80\n",
      "weighted avg       0.99      0.99      0.99        80\n",
      "\n"
     ]
    },
    {
     "data": {
      "image/png": "[encoded data removed]",
      "text/plain": [
       "<Figure size 640x480 with 2 Axes>"
      ]
     },
     "metadata": {},
     "output_type": "display_data"
    }
   ],
   "source": [
    "model = DecisionTreeClassifier()\n",
    "model.fit(X_train,Y_train)\n",
    "predictions = model.predict(X_test)\n",
    "conf = (confusion_matrix(Y_test,predictions))\n",
    "conf_display = ConfusionMatrixDisplay(confusion_matrix=conf, display_labels=[\"Malignant\",\"Benign\"])\n",
    "conf_display.plot()\n",
    "\n",
    "print(classification_report(Y_test,predictions))"
   ]
  },
  {
   "cell_type": "code",
   "execution_count": 43,
   "id": "1f8372cc",
   "metadata": {},
   "outputs": [
    {
     "name": "stdout",
     "output_type": "stream",
     "text": [
      "              precision    recall  f1-score   support\n",
      "\n",
      "           0       1.00      1.00      1.00        42\n",
      "           1       1.00      1.00      1.00        38\n",
      "\n",
      "    accuracy                           1.00        80\n",
      "   macro avg       1.00      1.00      1.00        80\n",
      "weighted avg       1.00      1.00      1.00        80\n",
      "\n"
     ]
    },
    {
     "data": {
      "image/png": "[encoded data removed]",
      "text/plain": [
       "<Figure size 640x480 with 2 Axes>"
      ]
     },
     "metadata": {},
     "output_type": "display_data"
    }
   ],
   "source": [
    "model = RandomForestClassifier()\n",
    "model.fit(X_train,Y_train)\n",
    "predictions = model.predict(X_test)\n",
    "conf = (confusion_matrix(Y_test,predictions))\n",
    "conf_display = ConfusionMatrixDisplay(confusion_matrix=conf, display_labels=[\"Malignant\",\"Benign\"])\n",
    "conf_display.plot()\n",
    "\n",
    "print(classification_report(Y_test,predictions))"
   ]
  },
  {
   "cell_type": "markdown",
   "id": "929adb81",
   "metadata": {},
   "source": [
    "Cross validation on ML:\n",
    "We will now apply different ML algos directly to the data to create classification models to predict the class of a new input and validate the models with 10-fold cross validation."
   ]
  },
  {
   "cell_type": "code",
   "execution_count": null,
   "id": "b6604dd4",
   "metadata": {},
   "outputs": [
    {
     "name": "stdout",
     "output_type": "stream",
     "text": [
      "Tree: 0.903043 (0.049069)\n",
      "Time:  0.061106800014385954\n",
      "kNN: 0.912174 (0.040308)\n",
      "Time:  0.14295589999528602\n",
      "Naive Bayes: 0.918502 (0.030210)\n",
      "Time:  0.02229690001695417\n",
      "SVM: 0.929614 (0.039214)\n",
      "Time:  0.036962299986043945\n",
      "RandomForest: 0.949275 (0.024641)\n",
      "Time:  1.0654675999830943\n"
     ]
    },
    {
     "name": "stderr",
     "output_type": "stream",
     "text": [
      "c:\\Users\\adirj\\AdiFolder\\Coding projects\\KCL-JupyterNotebooks\\.venv\\Lib\\site-packages\\sklearn\\neural_network\\_multilayer_perceptron.py:781: ConvergenceWarning: Stochastic Optimizer: Maximum iterations (300) reached and the optimization hasn't converged yet.\n",
      "  warnings.warn(\n",
      "c:\\Users\\adirj\\AdiFolder\\Coding projects\\KCL-JupyterNotebooks\\.venv\\Lib\\site-packages\\sklearn\\neural_network\\_multilayer_perceptron.py:781: ConvergenceWarning: Stochastic Optimizer: Maximum iterations (300) reached and the optimization hasn't converged yet.\n",
      "  warnings.warn(\n",
      "c:\\Users\\adirj\\AdiFolder\\Coding projects\\KCL-JupyterNotebooks\\.venv\\Lib\\site-packages\\sklearn\\neural_network\\_multilayer_perceptron.py:781: ConvergenceWarning: Stochastic Optimizer: Maximum iterations (300) reached and the optimization hasn't converged yet.\n",
      "  warnings.warn(\n",
      "c:\\Users\\adirj\\AdiFolder\\Coding projects\\KCL-JupyterNotebooks\\.venv\\Lib\\site-packages\\sklearn\\neural_network\\_multilayer_perceptron.py:781: ConvergenceWarning: Stochastic Optimizer: Maximum iterations (300) reached and the optimization hasn't converged yet.\n",
      "  warnings.warn(\n",
      "c:\\Users\\adirj\\AdiFolder\\Coding projects\\KCL-JupyterNotebooks\\.venv\\Lib\\site-packages\\sklearn\\neural_network\\_multilayer_perceptron.py:781: ConvergenceWarning: Stochastic Optimizer: Maximum iterations (300) reached and the optimization hasn't converged yet.\n",
      "  warnings.warn(\n",
      "c:\\Users\\adirj\\AdiFolder\\Coding projects\\KCL-JupyterNotebooks\\.venv\\Lib\\site-packages\\sklearn\\neural_network\\_multilayer_perceptron.py:781: ConvergenceWarning: Stochastic Optimizer: Maximum iterations (300) reached and the optimization hasn't converged yet.\n",
      "  warnings.warn(\n",
      "c:\\Users\\adirj\\AdiFolder\\Coding projects\\KCL-JupyterNotebooks\\.venv\\Lib\\site-packages\\sklearn\\neural_network\\_multilayer_perceptron.py:781: ConvergenceWarning: Stochastic Optimizer: Maximum iterations (300) reached and the optimization hasn't converged yet.\n",
      "  warnings.warn(\n",
      "c:\\Users\\adirj\\AdiFolder\\Coding projects\\KCL-JupyterNotebooks\\.venv\\Lib\\site-packages\\sklearn\\neural_network\\_multilayer_perceptron.py:781: ConvergenceWarning: Stochastic Optimizer: Maximum iterations (300) reached and the optimization hasn't converged yet.\n",
      "  warnings.warn(\n"
     ]
    },
    {
     "name": "stdout",
     "output_type": "stream",
     "text": [
      "NeuralNet: 0.925459 (0.041504)\n",
      "Time:  2.12814850002178\n"
     ]
    },
    {
     "name": "stderr",
     "output_type": "stream",
     "text": [
      "c:\\Users\\adirj\\AdiFolder\\Coding projects\\KCL-JupyterNotebooks\\.venv\\Lib\\site-packages\\sklearn\\neural_network\\_multilayer_perceptron.py:781: ConvergenceWarning: Stochastic Optimizer: Maximum iterations (300) reached and the optimization hasn't converged yet.\n",
      "  warnings.warn(\n"
     ]
    }
   ],
   "source": [
    "models = []\n",
    "models.append((\"Tree\",DecisionTreeClassifier()))\n",
    "models.append((\"kNN\",KNeighborsClassifier()))\n",
    "models.append((\"Naive Bayes\",GaussianNB()))\n",
    "models.append((\"SVM\",SVC(gamma=\"auto\")))\n",
    "models.append((\"RandomForest\",RandomForestClassifier()))\n",
    "models.append((\"NeuralNet\",MLPClassifier(random_state=1,max_iter=300)))\n",
    "\n",
    "results = []\n",
    "names = []\n",
    "\n",
    "\n",
    "for name,model in models:\n",
    "    start = timeit.default_timer()\n",
    "    cv_fold = StratifiedKFold(n_splits=10,random_state=1,shuffle=True)\n",
    "    cv_results = cross_val_score(model, X_train, Y_train, cv=cv_fold,scoring=\"accuracy\")\n",
    "    stop = timeit.default_timer()\n",
    "    results.append(cv_results)\n",
    "    names.append(name)\n",
    "\n",
    "    print(f\"{name}: {cv_results.mean()} ({cv_results.std()})\")\n",
    "    print(\"Time: \",stop-start)"
   ]
  },
  {
   "cell_type": "markdown",
   "id": "ce88533d",
   "metadata": {},
   "source": [
    "Let's plot it!"
   ]
  },
  {
   "cell_type": "code",
   "execution_count": 56,
   "id": "b78b454b",
   "metadata": {},
   "outputs": [
    {
     "data": {
      "image/png": "[encoded data removed]",
      "text/plain": [
       "<Figure size 640x480 with 1 Axes>"
      ]
     },
     "metadata": {},
     "output_type": "display_data"
    }
   ],
   "source": [
    "pyplot.boxplot(results,tick_labels=names)\n",
    "pyplot.title(\"Breast Cancer models comparison\")\n",
    "pyplot.show()"
   ]
  },
  {
   "cell_type": "markdown",
   "id": "5fa71d7c",
   "metadata": {},
   "source": [
    "We can now select the best classifier and show its ROC curve!"
   ]
  },
  {
   "cell_type": "code",
   "execution_count": 57,
   "id": "a3bcf77e",
   "metadata": {},
   "outputs": [
    {
     "data": {
      "text/plain": [
       "<sklearn.metrics._plot.roc_curve.RocCurveDisplay at 0x221f0d25fd0>"
      ]
     },
     "execution_count": 57,
     "metadata": {},
     "output_type": "execute_result"
    },
    {
     "data": {
      "image/png": "[encoded data removed]",
      "text/plain": [
       "<Figure size 640x480 with 1 Axes>"
      ]
     },
     "metadata": {},
     "output_type": "display_data"
    }
   ],
   "source": [
    "model = RandomForestClassifier()\n",
    "model.fit(X_train,Y_train)\n",
    "RocCurveDisplay.from_estimator(model,X_test,Y_test)"
   ]
  }
 ],
 "metadata": {
  "kernelspec": {
   "display_name": "KCL-kernel",
   "language": "python",
   "name": "kcl_env"
  },
  "language_info": {
   "codemirror_mode": {
    "name": "ipython",
    "version": 3
   },
   "file_extension": ".py",
   "mimetype": "text/x-python",
   "name": "python",
   "nbconvert_exporter": "python",
   "pygments_lexer": "ipython3",
   "version": "3.11.5"
  }
 },
 "nbformat": 4,
 "nbformat_minor": 5
}
