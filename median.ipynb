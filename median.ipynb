{
 "cells": [
  {
   "cell_type": "markdown",
   "id": "9e4473fe",
   "metadata": {},
   "source": [
    "# Median\n",
    "\n",
    "## Sample code\n",
    "The sample code below asks the user to enter a list of numbers.  If the user enters a list of numbers, such as:\n",
    "```\n",
    "Enter a list of numbers separated by commas:\n",
    "0, 0, 120, 234, 1\n",
    "```\n",
    "It prints out those numbers as a list:\n",
    "```\n",
    "[0.0, 0.0, 120.0, 234.0, 1.0]\n",
    "```\n",
    "\n",
    "## Assignment\n",
    "Your assignment in this exercise is to change the code such that it returns the median of the list.\n",
    "\n",
    "The median of a set of numbers is the middle number, that separates the lower half from the higher half.  The median of the following set of 7 numbers\n",
    "\n",
    "1, 2, 3, **3**, 6, 10,12\n",
    "\n",
    "is 3, because that is the middle number.  When the list contains an even number of values, the median is the arithmetic mean of the two middle numbers.  For example, the median of:\n",
    "\n",
    "1, 2, **3**, **6**, 10, 12\n",
    "\n",
    "is 4.5, because that is the arithmetic mean of 3 and 6"
   ]
  },
  {
   "cell_type": "code",
   "execution_count": 1,
   "id": "085a0c87",
   "metadata": {},
   "outputs": [
    {
     "name": "stdout",
     "output_type": "stream",
     "text": [
      "Enter a list of numbers separated by commas: \n",
      "[0.0, 0.0, 120.0, 234.0, 1.0]\n"
     ]
    }
   ],
   "source": [
    "\"\"\"Median calculator.\"\"\"\n",
    "\"\"\"ENTER YOUR SOLUTION HERE!\"\"\"\n",
    "\n",
    "while True:\n",
    "    try:\n",
    "        print(\"Enter a list of numbers separated by commas: \")\n",
    "        numbers = [float(value) for value in input().split(\",\")]\n",
    "    except ValueError:\n",
    "        print(\"Some input could not be converted to a number!\")\n",
    "    else:\n",
    "        break\n",
    "print(numbers)"
   ]
  }
 ],
 "metadata": {
  "kernelspec": {
   "display_name": "Python (EquityScreener)",
   "language": "python",
   "name": "equityenv"
  },
  "language_info": {
   "codemirror_mode": {
    "name": "ipython",
    "version": 3
   },
   "file_extension": ".py",
   "mimetype": "text/x-python",
   "name": "python",
   "nbconvert_exporter": "python",
   "pygments_lexer": "ipython3",
   "version": "3.11.5"
  }
 },
 "nbformat": 4,
 "nbformat_minor": 5
}
