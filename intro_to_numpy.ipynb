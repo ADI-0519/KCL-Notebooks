{
 "cells": [
  {
   "cell_type": "markdown",
   "id": "8be7a090",
   "metadata": {},
   "source": [
    "Intro to Numpy which is numerical python, used to allow several mathematical operations execute quickly."
   ]
  },
  {
   "cell_type": "code",
   "execution_count": 31,
   "id": "69ad5d53",
   "metadata": {},
   "outputs": [],
   "source": [
    "import numpy as np\n",
    "from time import process_time\n",
    "import random"
   ]
  },
  {
   "cell_type": "code",
   "execution_count": 4,
   "id": "a2e5a450",
   "metadata": {},
   "outputs": [
    {
     "name": "stdout",
     "output_type": "stream",
     "text": [
      "0.609375\n"
     ]
    }
   ],
   "source": [
    "python_lst = [i for i in range(10000000)]\n",
    "start_time = process_time()\n",
    "python_lst = [i+5 for i in python_lst]\n",
    "end_time = process_time()\n",
    "print(end_time - start_time)"
   ]
  },
  {
   "cell_type": "code",
   "execution_count": 5,
   "id": "e7b846ad",
   "metadata": {},
   "outputs": [
    {
     "name": "stdout",
     "output_type": "stream",
     "text": [
      "0.0\n"
     ]
    }
   ],
   "source": [
    "np_array = np.array([i for i in range(10000000)])\n",
    "start_time = process_time()\n",
    "np_array += 5\n",
    "end_time = process_time()\n",
    "print(end_time - start_time)"
   ]
  },
  {
   "cell_type": "code",
   "execution_count": 29,
   "id": "858f38bb",
   "metadata": {},
   "outputs": [
    {
     "name": "stdout",
     "output_type": "stream",
     "text": [
      "<class 'numpy.ndarray'>\n",
      "int64\n",
      "42\n",
      "()\n",
      "[1 2 3 4 5]\n",
      "(5,)\n",
      "[[1 2 3]\n",
      " [4 5 6]]\n",
      "(2, 3)\n",
      "2\n",
      "[[[[[1 2 3 4 5]]]]]\n"
     ]
    }
   ],
   "source": [
    "# 0d array/scalar\n",
    "arr1 = np.array(42)\n",
    "\n",
    "# 1d array called uni-dimensional\n",
    "arr2 = np.array((1,2,3,4,5))\n",
    "\n",
    "# 2d array used to represent matrices or 2nd order tensors.\n",
    "arr3 = np.array([[1,2,3],[4,5,6]])\n",
    "\n",
    "print(type(arr1))\n",
    "print(arr1.dtype)\n",
    "print(arr1)\n",
    "print(arr1.shape)\n",
    "print(arr2)\n",
    "print(arr2.shape)\n",
    "print(arr3)\n",
    "print(arr3.shape)\n",
    "\n",
    "print(arr3.ndim)\n",
    "\n",
    "arr4 = np.array([1,2,3,4,5],ndmin=5)\n",
    "print(arr4)"
   ]
  },
  {
   "cell_type": "code",
   "execution_count": 14,
   "id": "2ca4fafa",
   "metadata": {},
   "outputs": [
    {
     "name": "stdout",
     "output_type": "stream",
     "text": [
      "[2.3 3.4 4.  5. ]\n"
     ]
    }
   ],
   "source": [
    "arr = np.array([2.3,3.4,4,5],dtype=float)\n",
    "print(arr)"
   ]
  },
  {
   "cell_type": "code",
   "execution_count": null,
   "id": "c9e05100",
   "metadata": {},
   "outputs": [
    {
     "name": "stdout",
     "output_type": "stream",
     "text": [
      "[[0. 0. 0.]\n",
      " [0. 0. 0.]]\n",
      "\n",
      "\n",
      "[[1 1 1 1]\n",
      " [1 1 1 1]\n",
      " [1 1 1 1]]\n",
      "\n",
      "\n",
      "[[3 3 3 3]\n",
      " [3 3 3 3]\n",
      " [3 3 3 3]\n",
      " [3 3 3 3]\n",
      " [3 3 3 3]]\n",
      "[[1. 0. 0. 0.]\n",
      " [0. 1. 0. 0.]\n",
      " [0. 0. 1. 0.]\n",
      " [0. 0. 0. 1.]]\n"
     ]
    }
   ],
   "source": [
    "ones = np.ones((3,4),dtype=int)\n",
    "zeroes = np.zeros((2,3))\n",
    "print(zeroes)\n",
    "print(\"\\n\")\n",
    "print(ones)\n",
    "print(\"\\n\")\n",
    "z = np.full((5,4),3)\n",
    "print(z)\n",
    "\n",
    "y = np.eye(4)\n",
    "print(y)"
   ]
  },
  {
   "cell_type": "code",
   "execution_count": 26,
   "id": "b2105b81",
   "metadata": {},
   "outputs": [
    {
     "name": "stdout",
     "output_type": "stream",
     "text": [
      "2\n"
     ]
    }
   ],
   "source": [
    "print(arr3[0][1])"
   ]
  },
  {
   "cell_type": "code",
   "execution_count": 34,
   "id": "f8a89052",
   "metadata": {},
   "outputs": [
    {
     "name": "stdout",
     "output_type": "stream",
     "text": [
      "[[53 67 56 58]\n",
      " [62 48 77 36]\n",
      " [48 80 75 76]]\n"
     ]
    }
   ],
   "source": [
    "# generating random numbers in numpy array\n",
    "\n",
    "b = np.random.random((3,4)) # generates between 0 -> 1 random numbers\n",
    "c = np.random.randint(10,100,(3,4))\n",
    "print(c)"
   ]
  },
  {
   "cell_type": "code",
   "execution_count": 38,
   "id": "0cfde56d",
   "metadata": {},
   "outputs": [
    {
     "name": "stdout",
     "output_type": "stream",
     "text": [
      "[10. 15. 20. 25. 30.]\n",
      "[10 17 24]\n"
     ]
    }
   ],
   "source": [
    "#Create an array of evenly spaced values.\n",
    "d = np.linspace(10,30,5)\n",
    "print(d)\n",
    "\n",
    "# Create an array of evenly spaced values by specifying the step.\n",
    "e = np.arange(10,30,7)\n",
    "print(e)"
   ]
  },
  {
   "cell_type": "code",
   "execution_count": 42,
   "id": "4e5d8d8b",
   "metadata": {},
   "outputs": [
    {
     "name": "stdout",
     "output_type": "stream",
     "text": [
      "(10, 20, 20, 20, 50)\n",
      "<class 'numpy.ndarray'>\n"
     ]
    }
   ],
   "source": [
    "# convert list to an array\n",
    "\n",
    "list2 = (10,20,20,20,50)\n",
    "np_array = np.asarray(list2)\n",
    "print(list2)\n",
    "print(type(np_array))"
   ]
  },
  {
   "cell_type": "markdown",
   "id": "14c37f0e",
   "metadata": {},
   "source": [
    "Array analysis"
   ]
  },
  {
   "cell_type": "code",
   "execution_count": 43,
   "id": "69f1efe3",
   "metadata": {},
   "outputs": [
    {
     "name": "stdout",
     "output_type": "stream",
     "text": [
      "[[12 68 62 26 14]\n",
      " [38 70 33 79 10]\n",
      " [88 23 31 50 69]\n",
      " [16 54 87 86 20]\n",
      " [46 15 30 83 67]]\n"
     ]
    }
   ],
   "source": [
    "c = np.random.randint(10,90,(5,5))\n",
    "print(c)"
   ]
  },
  {
   "cell_type": "code",
   "execution_count": 46,
   "id": "233a7266",
   "metadata": {},
   "outputs": [
    {
     "name": "stdout",
     "output_type": "stream",
     "text": [
      "(5, 5)\n",
      "2\n",
      "25\n",
      "int32\n"
     ]
    }
   ],
   "source": [
    "# array dimensions\n",
    "print(c.shape)\n",
    "\n",
    "# no. of dimensions\n",
    "print(c.ndim)\n",
    "\n",
    "# number of elements in an array\n",
    "print(c.size)\n",
    "\n",
    "# checking data type of elements\n",
    "print(c.dtype)"
   ]
  },
  {
   "cell_type": "markdown",
   "id": "50e3dbc1",
   "metadata": {},
   "source": [
    "Mathematical operations on a np array."
   ]
  },
  {
   "cell_type": "code",
   "execution_count": 47,
   "id": "01687018",
   "metadata": {},
   "outputs": [
    {
     "name": "stdout",
     "output_type": "stream",
     "text": [
      "[1, 2, 3, 45, 6, 7, 8, 9, 10]\n"
     ]
    }
   ],
   "source": [
    "lst1 = [1,2,3,45]\n",
    "lst2 = [6,7,8,9,10]\n",
    "print(lst1+lst2)"
   ]
  },
  {
   "cell_type": "code",
   "execution_count": 51,
   "id": "3dcb5e8b",
   "metadata": {},
   "outputs": [
    {
     "name": "stdout",
     "output_type": "stream",
     "text": [
      "[[0 0 6]\n",
      " [9 0 9]\n",
      " [2 8 7]]\n",
      "[[16 11 18]\n",
      " [11 19 14]\n",
      " [16 10 15]]\n",
      "[[16 11 24]\n",
      " [20 19 23]\n",
      " [18 18 22]]\n",
      "[[-16 -11 -12]\n",
      " [ -2 -19  -5]\n",
      " [-14  -2  -8]]\n",
      "[[  0   0 108]\n",
      " [ 99   0 126]\n",
      " [ 32  80 105]]\n",
      "[[0.         0.         0.33333333]\n",
      " [0.81818182 0.         0.64285714]\n",
      " [0.125      0.8        0.46666667]]\n"
     ]
    }
   ],
   "source": [
    "a = np.random.randint(0,10,(3,3))\n",
    "b = np.random.randint(10,20,(3,3))\n",
    "\n",
    "print(a)\n",
    "print(b)\n",
    "\n",
    "\n",
    "print(a+b)\n",
    "print(a-b)\n",
    "print(a*b)\n",
    "print(a / b)"
   ]
  },
  {
   "cell_type": "code",
   "execution_count": 55,
   "id": "d9683476",
   "metadata": {},
   "outputs": [
    {
     "name": "stdout",
     "output_type": "stream",
     "text": [
      "[[9 5]\n",
      " [4 5]\n",
      " [1 1]]\n"
     ]
    }
   ],
   "source": [
    "a = np.random.randint(0,10,(2,3))\n",
    "transposed = np.transpose(a)\n",
    "print(transposed)"
   ]
  },
  {
   "cell_type": "code",
   "execution_count": 56,
   "id": "fb9b3a75",
   "metadata": {},
   "outputs": [
    {
     "name": "stdout",
     "output_type": "stream",
     "text": [
      "[[2 1 1]\n",
      " [3 7 0]]\n",
      "(2, 3)\n"
     ]
    }
   ],
   "source": [
    "b = np.random.randint(0,10,(2,3))\n",
    "print(b)\n",
    "print(b.shape)"
   ]
  },
  {
   "cell_type": "code",
   "execution_count": 57,
   "id": "03cf57d7",
   "metadata": {},
   "outputs": [
    {
     "name": "stdout",
     "output_type": "stream",
     "text": [
      "[[2 1]\n",
      " [1 3]\n",
      " [7 0]]\n",
      "(3, 2)\n"
     ]
    }
   ],
   "source": [
    "c = b.reshape(3,2)\n",
    "print(c)\n",
    "print(c.shape)"
   ]
  }
 ],
 "metadata": {
  "kernelspec": {
   "display_name": "KCL-kernel",
   "language": "python",
   "name": "kcl_env"
  },
  "language_info": {
   "codemirror_mode": {
    "name": "ipython",
    "version": 3
   },
   "file_extension": ".py",
   "mimetype": "text/x-python",
   "name": "python",
   "nbconvert_exporter": "python",
   "pygments_lexer": "ipython3",
   "version": "3.11.5"
  }
 },
 "nbformat": 4,
 "nbformat_minor": 5
}
