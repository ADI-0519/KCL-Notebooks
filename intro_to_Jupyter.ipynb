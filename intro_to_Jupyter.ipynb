{
 "cells": [
  {
   "cell_type": "markdown",
   "id": "553b6a7c",
   "metadata": {},
   "source": [
    "Cells: Formatted text (markdown) or code. Great for prototyping, and for explaining and sharing code!"
   ]
  },
  {
   "cell_type": "markdown",
   "id": "5e3b78d5",
   "metadata": {},
   "source": [
    "# Features of Markdown\n",
    "\n",
    "One hashtag -> H1, Two -> H2, three -> H3 and so on.\n",
    "\n",
    "## Text Styles\n",
    "\n",
    "* italics: use asterisks like *hello* or underscores like _hello_\n",
    "* bold: double asterisks or double underscores like **HII**\n",
    "* combined: **_bold+italics!!_**\n",
    "* strikethrough: ~~hi~~\n",
    "* code: `inline code` or\n",
    "```\n",
    "print(\"hello\")\n",
    "```\n"
   ]
  },
  {
   "cell_type": "markdown",
   "id": "9b761220",
   "metadata": {},
   "source": [
    "1. Used for ordered lists, and * for normal bullet points.\n",
    "We can add links via:\n",
    "1. Pasting the url\n",
    "2. Placing within <> ex: <https://google.co.uk>\n"
   ]
  },
  {
   "cell_type": "markdown",
   "id": "406670d1",
   "metadata": {},
   "source": [
    "We can implement LaTeX by surrounding with $. $e^x = 5$"
   ]
  },
  {
   "cell_type": "markdown",
   "id": "5038095b",
   "metadata": {},
   "source": [
    "The Jupyter **kernel** is the computational engine to execute the code.\n",
    "We can use Python normal 3.11 kernel or our own venv kernel.  "
   ]
  },
  {
   "cell_type": "code",
   "execution_count": 1,
   "id": "27e9fab2",
   "metadata": {},
   "outputs": [
    {
     "data": {
      "text/plain": [
       "10"
      ]
     },
     "execution_count": 1,
     "metadata": {},
     "output_type": "execute_result"
    }
   ],
   "source": [
    "a = 10\n",
    "a"
   ]
  },
  {
   "cell_type": "code",
   "execution_count": 2,
   "id": "f43cf14f",
   "metadata": {},
   "outputs": [
    {
     "data": {
      "text/plain": [
       "15"
      ]
     },
     "execution_count": 2,
     "metadata": {},
     "output_type": "execute_result"
    }
   ],
   "source": [
    "arr = [0,1,2,3,4,5]\n",
    "sum(arr)"
   ]
  }
 ],
 "metadata": {
  "kernelspec": {
   "display_name": "Python (EquityScreener)",
   "language": "python",
   "name": "equityenv"
  },
  "language_info": {
   "codemirror_mode": {
    "name": "ipython",
    "version": 3
   },
   "file_extension": ".py",
   "mimetype": "text/x-python",
   "name": "python",
   "nbconvert_exporter": "python",
   "pygments_lexer": "ipython3",
   "version": "3.11.5"
  }
 },
 "nbformat": 4,
 "nbformat_minor": 5
}
