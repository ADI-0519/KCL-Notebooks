{
 "cells": [
  {
   "cell_type": "markdown",
   "id": "9997d383",
   "metadata": {},
   "source": [
    "# Count frequencies\n",
    "\n",
    "## Sample code\n",
    "This sample code contains function called `frequencies`, which takes a single argument called `items`:\n",
    "\n",
    "```\n",
    "def frequencies(items):\n",
    "    frequencies = {}\n",
    "    # Your code goes here\n",
    "    return frequencies\n",
    "```\n",
    "\n",
    "\n",
    "## Assignment\n",
    "Your assignment in this exercise is to extend the code, such that it produces a dictionary based on the `items` list.  For each item in `items`, the dictionary must contain a key.  If the item is not a string, the key must be the item converted to a string.  The value must be a positive integer counting the number of times the item represented by the key occurs in `items`.\n",
    "\n",
    "For example,\n",
    "`frequencies(['a', 'a', 'b', 'b', 'b', 'c'])`\n",
    "must return the following dictionary:\n",
    "`{ 'a': 2, 'b': 3, 'c': 1 }`\n",
    "\n",
    "For example,\n",
    "`frequencies([100, 'Hello', '100', '100', 100])`\n",
    "must return the following dictionary:\n",
    "`{ '100': 4, 'Hello': 1 }`\n"
   ]
  },
  {
   "cell_type": "code",
   "execution_count": 5,
   "id": "8cca045d",
   "metadata": {},
   "outputs": [
    {
     "name": "stdout",
     "output_type": "stream",
     "text": [
      "{'\"a\"': 3, '\"b\"': 1, '1': 1, '2': 2, '\"hello\"': 2}\n"
     ]
    }
   ],
   "source": [
    "\"\"\"Frequencies function.\"\"\"\n",
    "\"\"\"ENTER YOUR SOLUTION HERE!\"\"\"\n",
    "from collections import Counter\n",
    "def frequencies(items):\n",
    "    frequencies = {}\n",
    "    # frequencies = Counter(items)\n",
    "\n",
    "    for element in items:\n",
    "        frequencies[element] = frequencies.get(element,0) + 1\n",
    "\n",
    "    return frequencies\n",
    "\n",
    "\n",
    "inp = input(\"Give array separated by commas\")\n",
    "print(frequencies(inp.split(\",\")))\n"
   ]
  }
 ],
 "metadata": {
  "kernelspec": {
   "display_name": "Python (EquityScreener)",
   "language": "python",
   "name": "equityenv"
  },
  "language_info": {
   "codemirror_mode": {
    "name": "ipython",
    "version": 3
   },
   "file_extension": ".py",
   "mimetype": "text/x-python",
   "name": "python",
   "nbconvert_exporter": "python",
   "pygments_lexer": "ipython3",
   "version": "3.11.5"
  }
 },
 "nbformat": 4,
 "nbformat_minor": 5
}
