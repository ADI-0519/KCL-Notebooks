{
 "cells": [
  {
   "cell_type": "markdown",
   "id": "7d95bb43",
   "metadata": {},
   "source": [
    "# Primes exercise\n",
    "\n",
    "## Assignment\n",
    "This repository contains some template code for a function called `primes`, which takes a single argument `number_of_primes`:\n",
    "\n",
    "```\n",
    "def primes(number_of_primes):\n",
    "    list = []\n",
    "    return list\n",
    "```\n",
    "\n",
    "In this exercise, you must extend the code such that, given a positive value for `number_of_primes`, the `primes` function returns a list containing the first `number_of_primes` prime numbers.  For example, `primes(10)` should the following list:\n",
    "\n",
    "```\n",
    "[2, 3, 5, 7, 11, 13, 17, 19, 23, 29]\n",
    "```\n"
   ]
  },
  {
   "cell_type": "code",
   "execution_count": 5,
   "id": "8d8f95dd",
   "metadata": {},
   "outputs": [
    {
     "name": "stdout",
     "output_type": "stream",
     "text": [
      "[2, 3, 5, 7, 11, 13, 17, 19, 23, 29]\n"
     ]
    }
   ],
   "source": [
    "\"\"\"List of prime numbers generator.\"\"\"\n",
    "\"\"\"ENTER YOUR SOLUTION HERE!\"\"\"\n",
    "\n",
    "def check_prime(n):\n",
    "    for i in range(2,int(n**0.5)+1):\n",
    "        if n % i == 0:\n",
    "            return False\n",
    "        \n",
    "    return True\n",
    "\n",
    "\n",
    "def primes(number_of_primes):\n",
    "    list = []\n",
    "    i = 0\n",
    "    num = 2\n",
    "    while i < number_of_primes:\n",
    "        if check_prime(num):\n",
    "            i += 1\n",
    "            list.append(num)\n",
    "        \n",
    "        num += 1\n",
    "    return list\n",
    "\n",
    "inp = int(input(\"\"))\n",
    "print(primes(inp))"
   ]
  }
 ],
 "metadata": {
  "kernelspec": {
   "display_name": "Python (EquityScreener)",
   "language": "python",
   "name": "equityenv"
  },
  "language_info": {
   "codemirror_mode": {
    "name": "ipython",
    "version": 3
   },
   "file_extension": ".py",
   "mimetype": "text/x-python",
   "name": "python",
   "nbconvert_exporter": "python",
   "pygments_lexer": "ipython3",
   "version": "3.11.5"
  }
 },
 "nbformat": 4,
 "nbformat_minor": 5
}
